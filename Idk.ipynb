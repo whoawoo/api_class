{
  "nbformat": 4,
  "nbformat_minor": 0,
  "metadata": {
    "colab": {
      "provenance": [],
      "authorship_tag": "ABX9TyO1S4mKM+bTSbyah3lDrqwd",
      "include_colab_link": true
    },
    "kernelspec": {
      "name": "python3",
      "display_name": "Python 3"
    },
    "language_info": {
      "name": "python"
    }
  },
  "cells": [
    {
      "cell_type": "markdown",
      "metadata": {
        "id": "view-in-github",
        "colab_type": "text"
      },
      "source": [
        "<a href=\"https://colab.research.google.com/github/whoawoo/api_class/blob/main/Idk.ipynb\" target=\"_parent\"><img src=\"https://colab.research.google.com/assets/colab-badge.svg\" alt=\"Open In Colab\"/></a>"
      ]
    },
    {
      "cell_type": "code",
      "execution_count": null,
      "metadata": {
        "id": "wT-zUSaz4ZBi"
      },
      "outputs": [],
      "source": [
        "import numpy as np\n",
        "import matplotlib.pyplot as plt\n",
        "\n",
        "x_data = np.linspace(-Z*np.pi, Z*np.pi)\n",
        "sin_data = np.sin(x_data) + 0.1\n",
        "\n",
        "\n",
        "~~~~~~~~~~~~~~~~~~~~~~~~~~~~~~~~~~~"
      ]
    },
    {
      "cell_type": "code",
      "source": [
        "from tensorflow.keras.models import Sequential\n",
        "from tensorflow.keras.layers import Dense, SimpleRNN\n",
        "\n",
        "n_in = 1\n",
        "n_mid = 20\n",
        "n_out = 1\n",
        "\n",
        "model = Sequential()\n",
        "model.add(SimpleRNN(n_mid,input_shape=(n_rnn, n_in),return_sequences=True))\n",
        "model.add(Dense(n_out, activation=\"linear\"))\n",
        "model.compile(loss=\"mean_squared_error\", optimizer=\"sgd\")\n"
      ],
      "metadata": {
        "id": "4LwgjbF26XZp"
      },
      "execution_count": null,
      "outputs": []
    },
    {
      "cell_type": "code",
      "source": [
        "history = model.fit(x, t, epochs=20, batch_size=8, validation_split=0.1)"
      ],
      "metadata": {
        "id": "rmHEz7Cv7xr0"
      },
      "execution_count": null,
      "outputs": []
    },
    {
      "cell_type": "code",
      "source": [
        "loss = history.history['loss']\n",
        "vloss = history.history['val_loss']\n",
        "\n",
        "plt.plot(np.arange(len(loss)), loss)\n",
        "plt.plot(np.arange(len(vloss)), vloss)\n",
        "plt.show()"
      ],
      "metadata": {
        "id": "RURS4bp98F_r"
      },
      "execution_count": null,
      "outputs": []
    },
    {
      "cell_type": "code",
      "source": [
        "predicted = x[0],reshape(-1)\n",
        "\n",
        "for i in range(0, n_sample):\n",
        "  y = model.predict(predicted[-n_rnn:].reshape(1, n_rnn, 1))\n",
        "  predicted = np.append(predicted, y[0][n_rnn-1][0])\n",
        "\n",
        "plt.plot(np.arange(len(sin_data)), sin_data, label=\"Training data\")\n",
        "plt.plot(np.arange(len(predicted)), predicted, label=\"predicted\")\n",
        "\n",
        "plt.legend()\n",
        "plt.show()"
      ],
      "metadata": {
        "id": "Ma3V1cSV8xBO"
      },
      "execution_count": null,
      "outputs": []
    },
    {
      "cell_type": "code",
      "source": [
        "x = x.reshape(n_n)"
      ],
      "metadata": {
        "id": "sA5TN0NH-ikq"
      },
      "execution_count": null,
      "outputs": []
    },
    {
      "cell_type": "code",
      "source": [
        "loss_rnn = history_rnn.history['loss']\n",
        "loss_lstm = history_lstm.history['loss']\n",
        "\n",
        "plt.plot(np.arange(len(loss_rnn)), loss_rnn, label=\"RNN\")\n",
        "plt.plot(np.arange(len(loss_lstm)), loss_lstm, label=\"LSTM\")\n",
        "plt.legend()\n",
        "plt.8"
      ],
      "metadata": {
        "id": "sb5gqltICkor"
      },
      "execution_count": null,
      "outputs": []
    },
    {
      "cell_type": "code",
      "source": [],
      "metadata": {
        "id": "nDd8GLBdHeF6"
      },
      "execution_count": null,
      "outputs": []
    }
  ]
}